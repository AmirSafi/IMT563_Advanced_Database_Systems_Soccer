{
 "cells": [
  {
   "cell_type": "code",
   "execution_count": 1,
   "metadata": {
    "collapsed": false
   },
   "outputs": [
    {
     "data": {
      "text/plain": [
       "<Figure size 432x288 with 0 Axes>"
      ]
     },
     "metadata": {},
     "output_type": "display_data"
    }
   ],
   "source": [
    "import pyodbc\n",
    "import time\n",
    "import numpy as np\n",
    "import pandas as pd\n",
    "import matplotlib.pyplot as plt\n",
    "%matplotlib inline\n",
    "\n",
    "plt.gcf().subplots_adjust(bottom=-0.5) # doesn't work"
   ]
  },
  {
   "cell_type": "code",
   "execution_count": 2,
   "metadata": {
    "collapsed": true
   },
   "outputs": [],
   "source": [
    "def initialize():\n",
    "    '''Establish connection with our soccer DB.\n",
    "    Output: cnxn, cursor (globally for convenience)'''\n",
    "\n",
    "    server = 'imt563a.database.windows.net'\n",
    "    database = 'IMT563'\n",
    "    username = 'richardm'\n",
    "    password = 'please_work_123'\n",
    "    driver= '{SQL Server}'\n",
    "    global cnxn, cursor\n",
    "    cnxn = pyodbc.connect('DRIVER='+driver+';SERVER='+server+';PORT=1433;DATABASE='+database+';UID='+username+';PWD='+ password)\n",
    "    cursor = cnxn.cursor()\n",
    "\n",
    "# All these functions first call initialize, then close connection and cursor\n",
    "def output_rows(cursor):\n",
    "    '''Print output from SELECT'''\n",
    "    row = cursor.fetchone()\n",
    "    while row:\n",
    "        print(row)\n",
    "        row = cursor.fetchone()\n",
    "def get_constraints(table='Player_new_PK_SI'):\n",
    "    initialize()\n",
    "    sql = '''\n",
    "    SELECT OBJECT_NAME(object_id) AS ConstraintName,\n",
    "        OBJECT_NAME(parent_object_id) AS TableName,\n",
    "        type_desc AS ConstraintType\n",
    "    FROM sys.objects\n",
    "    WHERE type_desc LIKE '%CONSTRAINT' AND OBJECT_NAME(parent_object_id) = \\'''' + table_name + '''\\'\n",
    "    '''\n",
    "    cursor.execute(sql)\n",
    "    output_rows(cursor)\n",
    "    cursor.close()\n",
    "    cnxn.close()\n",
    "def close():\n",
    "    global cursor, cnxn\n",
    "    cursor.close()\n",
    "    cnxn.close()"
   ]
  },
  {
   "cell_type": "code",
   "execution_count": 3,
   "metadata": {
    "collapsed": true
   },
   "outputs": [],
   "source": [
    "initialize()"
   ]
  },
  {
   "cell_type": "code",
   "execution_count": 9,
   "metadata": {
    "collapsed": false
   },
   "outputs": [
    {
     "data": {
      "text/plain": [
       "<BarContainer object of 3 artists>"
      ]
     },
     "execution_count": 9,
     "metadata": {},
     "output_type": "execute_result"
    },
    {
     "data": {
      "text/plain": [
       "[Text(0,0,''),\n",
       " Text(0,0,'no constraint'),\n",
       " Text(0,0,''),\n",
       " Text(0,0,'PK'),\n",
       " Text(0,0,''),\n",
       " Text(0,0,'PK + 1 index')]"
      ]
     },
     "execution_count": 9,
     "metadata": {},
     "output_type": "execute_result"
    },
    {
     "data": {
      "text/plain": [
       "Text(0,0.5,'Tuples/sec')"
      ]
     },
     "execution_count": 9,
     "metadata": {},
     "output_type": "execute_result"
    },
    {
     "data": {
      "text/plain": [
       "Text(0.5,1,'INSERT INTO Throughput')"
      ]
     },
     "execution_count": 9,
     "metadata": {},
     "output_type": "execute_result"
    },
    {
     "data": {
      "image/png": "[encoded data removed]",
      "text/plain": [
       "<Figure size 432x288 with 1 Axes>"
      ]
     },
     "metadata": {
      "needs_background": "light"
     },
     "output_type": "display_data"
    }
   ],
   "source": [
    "fig, ax = plt.subplots()\n",
    "plt.bar([1,3,5],[556.48,600.24,161.456])\n",
    "ax.set_xticklabels(['', \"no constraint\", '', \"PK\", '', \"PK + 1 index\"])\n",
    "ax.set_ylabel(\"Tuples/sec\")\n",
    "ax.set_title(\"INSERT INTO Throughput\")"
   ]
  },
  {
   "cell_type": "code",
   "execution_count": null,
   "metadata": {
    "collapsed": true
   },
   "outputs": [],
   "source": []
  },
  {
   "cell_type": "markdown",
   "metadata": {},
   "source": [
    "### BULK INSERT Experiment with Player Table\n",
    "Get average time-taken for each batch size of BULK INSERTS on the Player table (as dictionary)"
   ]
  },
  {
   "cell_type": "code",
   "execution_count": 13,
   "metadata": {
    "collapsed": true
   },
   "outputs": [],
   "source": [
    "## Bulk insert experiment -- return batch_avg dict\n",
    "batches = [1, 5, 10, 20, 50, 100, 500, 1000, 2500, 6000, 10000, 11060] # Try with [11060] for quick test\n",
    "def bulk_insert_experiment(table_name, sql_stmt):\n",
    "    initialize()\n",
    "    print(\"----\\nRunning batches for\", table_name)\n",
    "    # Keep track of each batch-time to compute averages\n",
    "    batch_times = {batch:[] for batch in batches}\n",
    "\n",
    "    for i in range(5):\n",
    "        # Pause to let our DTU's catch up\n",
    "        time.sleep(5) # doesn't seem to be doing anything\n",
    "        for batch_size in batches:\n",
    "            cursor.execute('''TRUNCATE TABLE ''' + table_name)\n",
    "            cursor.commit()\n",
    "            #print(batch_size)\n",
    "\n",
    "            start = time.time()\n",
    "\n",
    "            first_row = 2\n",
    "            last_row = 2 + batch_size - 1\n",
    "\n",
    "            # BULK INSERT <batch_size> rows from csv\n",
    "            sql = sql_stmt.format(table_name, first_row, last_row)\n",
    "            cursor.execute(sql)\n",
    "\n",
    "            cursor.commit()\n",
    "            end = time.time()\n",
    "            total_time = end - start\n",
    "            # Record time and append it to dict\n",
    "            #print(total_time, \"seconds\")\n",
    "            batch_times[batch_size].append(total_time)\n",
    "\n",
    "    # Output averages\n",
    "    batch_avg = {}\n",
    "    print(\"** AVERAGES **\")\n",
    "    for batch in batches:\n",
    "        times = batch_times[batch]\n",
    "        print(\"Batch:\", batch, \"Avg:\", sum(times)/len(times))\n",
    "        batch_avg[batch] = sum(times)/len(times)\n",
    "        \n",
    "    # Close cursor and connection\n",
    "    close()\n",
    "    return batch_avg"
   ]
  },
  {
   "cell_type": "code",
   "execution_count": 14,
   "metadata": {
    "collapsed": false
   },
   "outputs": [
    {
     "name": "stdout",
     "output_type": "stream",
     "text": [
      "----\n",
      "Running batches for Player_new_No_Constraint\n",
      "** AVERAGES **\n",
      "Batch: 1 Avg: 0.43114304542541504\n",
      "Batch: 5 Avg: 0.36504926681518557\n",
      "Batch: 10 Avg: 0.3550106048583984\n",
      "Batch: 20 Avg: 0.333685302734375\n",
      "Batch: 50 Avg: 0.35270466804504397\n",
      "Batch: 100 Avg: 0.3421631813049316\n",
      "Batch: 500 Avg: 0.3687741279602051\n",
      "Batch: 1000 Avg: 0.33364248275756836\n",
      "Batch: 2500 Avg: 0.4051381587982178\n",
      "Batch: 6000 Avg: 0.6624069690704346\n",
      "Batch: 10000 Avg: 1.5832300186157227\n",
      "Batch: 11060 Avg: 1.9114573001861572\n",
      "----\n",
      "Running batches for Player_new_PK\n",
      "** AVERAGES **\n",
      "Batch: 1 Avg: 0.3503002643585205\n",
      "Batch: 5 Avg: 0.33211002349853513\n",
      "Batch: 10 Avg: 0.32664804458618163\n",
      "Batch: 20 Avg: 0.33842968940734863\n",
      "Batch: 50 Avg: 0.3333582401275635\n",
      "Batch: 100 Avg: 0.3392296314239502\n",
      "Batch: 500 Avg: 0.3385298728942871\n",
      "Batch: 1000 Avg: 0.3646674633026123\n",
      "Batch: 2500 Avg: 0.34212536811828614\n",
      "Batch: 6000 Avg: 0.6054218292236329\n",
      "Batch: 10000 Avg: 1.8253232479095458\n",
      "Batch: 11060 Avg: 1.9477821826934814\n",
      "----\n",
      "Running batches for Player_new_PK_SI\n",
      "** AVERAGES **\n",
      "Batch: 1 Avg: 0.4527853488922119\n",
      "Batch: 5 Avg: 0.3338538646697998\n",
      "Batch: 10 Avg: 0.3293473243713379\n",
      "Batch: 20 Avg: 0.33818721771240234\n",
      "Batch: 50 Avg: 0.3352212429046631\n",
      "Batch: 100 Avg: 0.3404698371887207\n",
      "Batch: 500 Avg: 0.3657816410064697\n",
      "Batch: 1000 Avg: 0.36032938957214355\n",
      "Batch: 2500 Avg: 0.6904160499572753\n",
      "Batch: 6000 Avg: 2.495271348953247\n",
      "Batch: 10000 Avg: 4.035994386672973\n",
      "Batch: 11060 Avg: 4.55908899307251\n",
      "Time taken 237.225195646286\n"
     ]
    }
   ],
   "source": [
    "t1 = time.time()\n",
    "sql_stmt = '''\n",
    "        BULK INSERT {}\n",
    "        FROM 'Player.csv'\n",
    "        WITH ( DATA_SOURCE = 'imt563ian_blobdatasource', FORMAT='CSV', FIRSTROW={}, LASTROW={});'''\n",
    "A = bulk_insert_experiment(\"Player_new_No_Constraint\", sql_stmt)\n",
    "B = bulk_insert_experiment(\"Player_new_PK\", sql_stmt)\n",
    "C = bulk_insert_experiment(\"Player_new_PK_SI\", sql_stmt)\n",
    "print(\"Time taken\", time.time() - t1)"
   ]
  },
  {
   "cell_type": "code",
   "execution_count": null,
   "metadata": {
    "collapsed": true
   },
   "outputs": [],
   "source": []
  },
  {
   "cell_type": "markdown",
   "metadata": {},
   "source": [
    "## Plotting"
   ]
  },
  {
   "cell_type": "code",
   "execution_count": 81,
   "metadata": {
    "collapsed": false
   },
   "outputs": [
    {
     "name": "stdout",
     "output_type": "stream",
     "text": [
      "no constraints\n",
      " [0.43114304542541504, 0.36504926681518557, 0.3550106048583984, 0.333685302734375, 0.35270466804504397, 0.3421631813049316, 0.3687741279602051, 0.33364248275756836, 0.4051381587982178, 0.6624069690704346, 1.5832300186157227, 1.9114573001861572] \n",
      "\n",
      "PK\n",
      " [0.3503002643585205, 0.33211002349853513, 0.32664804458618163, 0.33842968940734863, 0.3333582401275635, 0.3392296314239502, 0.3385298728942871, 0.3646674633026123, 0.34212536811828614, 0.6054218292236329, 1.8253232479095458, 1.9477821826934814] \n",
      "\n",
      "PK + 1 index\n",
      " [0.4527853488922119, 0.3338538646697998, 0.3293473243713379, 0.33818721771240234, 0.3352212429046631, 0.3404698371887207, 0.3657816410064697, 0.36032938957214355, 0.6904160499572753, 2.495271348953247, 4.035994386672973, 4.55908899307251]\n"
     ]
    },
    {
     "data": {
      "text/html": [
       "<div>\n",
       "<style scoped>\n",
       "    .dataframe tbody tr th:only-of-type {\n",
       "        vertical-align: middle;\n",
       "    }\n",
       "\n",
       "    .dataframe tbody tr th {\n",
       "        vertical-align: top;\n",
       "    }\n",
       "\n",
       "    .dataframe thead th {\n",
       "        text-align: right;\n",
       "    }\n",
       "</style>\n",
       "<table border=\"1\" class=\"dataframe\">\n",
       "  <thead>\n",
       "    <tr style=\"text-align: right;\">\n",
       "      <th></th>\n",
       "      <th>none</th>\n",
       "      <th>PK</th>\n",
       "      <th>PK &amp; Index</th>\n",
       "    </tr>\n",
       "  </thead>\n",
       "  <tbody>\n",
       "    <tr>\n",
       "      <th>0</th>\n",
       "      <td>0.431143</td>\n",
       "      <td>0.350300</td>\n",
       "      <td>0.452785</td>\n",
       "    </tr>\n",
       "    <tr>\n",
       "      <th>1</th>\n",
       "      <td>0.365049</td>\n",
       "      <td>0.332110</td>\n",
       "      <td>0.333854</td>\n",
       "    </tr>\n",
       "    <tr>\n",
       "      <th>2</th>\n",
       "      <td>0.355011</td>\n",
       "      <td>0.326648</td>\n",
       "      <td>0.329347</td>\n",
       "    </tr>\n",
       "    <tr>\n",
       "      <th>3</th>\n",
       "      <td>0.333685</td>\n",
       "      <td>0.338430</td>\n",
       "      <td>0.338187</td>\n",
       "    </tr>\n",
       "    <tr>\n",
       "      <th>4</th>\n",
       "      <td>0.352705</td>\n",
       "      <td>0.333358</td>\n",
       "      <td>0.335221</td>\n",
       "    </tr>\n",
       "    <tr>\n",
       "      <th>5</th>\n",
       "      <td>0.342163</td>\n",
       "      <td>0.339230</td>\n",
       "      <td>0.340470</td>\n",
       "    </tr>\n",
       "    <tr>\n",
       "      <th>6</th>\n",
       "      <td>0.368774</td>\n",
       "      <td>0.338530</td>\n",
       "      <td>0.365782</td>\n",
       "    </tr>\n",
       "    <tr>\n",
       "      <th>7</th>\n",
       "      <td>0.333642</td>\n",
       "      <td>0.364667</td>\n",
       "      <td>0.360329</td>\n",
       "    </tr>\n",
       "    <tr>\n",
       "      <th>8</th>\n",
       "      <td>0.405138</td>\n",
       "      <td>0.342125</td>\n",
       "      <td>0.690416</td>\n",
       "    </tr>\n",
       "    <tr>\n",
       "      <th>9</th>\n",
       "      <td>0.662407</td>\n",
       "      <td>0.605422</td>\n",
       "      <td>2.495271</td>\n",
       "    </tr>\n",
       "    <tr>\n",
       "      <th>10</th>\n",
       "      <td>1.583230</td>\n",
       "      <td>1.825323</td>\n",
       "      <td>4.035994</td>\n",
       "    </tr>\n",
       "    <tr>\n",
       "      <th>11</th>\n",
       "      <td>1.911457</td>\n",
       "      <td>1.947782</td>\n",
       "      <td>4.559089</td>\n",
       "    </tr>\n",
       "  </tbody>\n",
       "</table>\n",
       "</div>"
      ],
      "text/plain": [
       "        none        PK  PK & Index\n",
       "0   0.431143  0.350300    0.452785\n",
       "1   0.365049  0.332110    0.333854\n",
       "2   0.355011  0.326648    0.329347\n",
       "3   0.333685  0.338430    0.338187\n",
       "4   0.352705  0.333358    0.335221\n",
       "5   0.342163  0.339230    0.340470\n",
       "6   0.368774  0.338530    0.365782\n",
       "7   0.333642  0.364667    0.360329\n",
       "8   0.405138  0.342125    0.690416\n",
       "9   0.662407  0.605422    2.495271\n",
       "10  1.583230  1.825323    4.035994\n",
       "11  1.911457  1.947782    4.559089"
      ]
     },
     "execution_count": 81,
     "metadata": {},
     "output_type": "execute_result"
    }
   ],
   "source": [
    "# First convert dictionary into sorted lists\n",
    "A_vals = [A[key] for key in sorted(A.keys())]\n",
    "B_vals = [B[key] for key in sorted(B.keys())]\n",
    "C_vals = [C[key] for key in sorted(C.keys())]\n",
    "print('no constraints\\n', A_vals,'\\n')\n",
    "print('PK\\n', B_vals,'\\n')\n",
    "print('PK + 1 index\\n', C_vals)\n",
    "\n",
    "df = pd.DataFrame({'none':A_vals, 'PK':B_vals, 'PK & Index':C_vals})\n",
    "df"
   ]
  },
  {
   "cell_type": "code",
   "execution_count": 82,
   "metadata": {
    "collapsed": false
   },
   "outputs": [
    {
     "data": {
      "text/html": [
       "<div>\n",
       "<style scoped>\n",
       "    .dataframe tbody tr th:only-of-type {\n",
       "        vertical-align: middle;\n",
       "    }\n",
       "\n",
       "    .dataframe tbody tr th {\n",
       "        vertical-align: top;\n",
       "    }\n",
       "\n",
       "    .dataframe thead th {\n",
       "        text-align: right;\n",
       "    }\n",
       "</style>\n",
       "<table border=\"1\" class=\"dataframe\">\n",
       "  <thead>\n",
       "    <tr style=\"text-align: right;\">\n",
       "      <th></th>\n",
       "      <th>none</th>\n",
       "      <th>PK</th>\n",
       "      <th>PK &amp; Index</th>\n",
       "    </tr>\n",
       "  </thead>\n",
       "  <tbody>\n",
       "    <tr>\n",
       "      <th>1</th>\n",
       "      <td>2.319416</td>\n",
       "      <td>2.854694</td>\n",
       "      <td>2.208552</td>\n",
       "    </tr>\n",
       "    <tr>\n",
       "      <th>5</th>\n",
       "      <td>13.696781</td>\n",
       "      <td>15.055252</td>\n",
       "      <td>14.976613</td>\n",
       "    </tr>\n",
       "    <tr>\n",
       "      <th>10</th>\n",
       "      <td>28.168173</td>\n",
       "      <td>30.613990</td>\n",
       "      <td>30.363083</td>\n",
       "    </tr>\n",
       "    <tr>\n",
       "      <th>20</th>\n",
       "      <td>59.936712</td>\n",
       "      <td>59.096470</td>\n",
       "      <td>59.138841</td>\n",
       "    </tr>\n",
       "    <tr>\n",
       "      <th>50</th>\n",
       "      <td>141.761662</td>\n",
       "      <td>149.988793</td>\n",
       "      <td>149.155225</td>\n",
       "    </tr>\n",
       "    <tr>\n",
       "      <th>100</th>\n",
       "      <td>292.258213</td>\n",
       "      <td>294.785569</td>\n",
       "      <td>293.711774</td>\n",
       "    </tr>\n",
       "    <tr>\n",
       "      <th>500</th>\n",
       "      <td>1355.843488</td>\n",
       "      <td>1476.974530</td>\n",
       "      <td>1366.935745</td>\n",
       "    </tr>\n",
       "    <tr>\n",
       "      <th>1000</th>\n",
       "      <td>2997.220233</td>\n",
       "      <td>2742.224357</td>\n",
       "      <td>2775.238515</td>\n",
       "    </tr>\n",
       "    <tr>\n",
       "      <th>2500</th>\n",
       "      <td>6170.734466</td>\n",
       "      <td>7307.262872</td>\n",
       "      <td>3621.005045</td>\n",
       "    </tr>\n",
       "    <tr>\n",
       "      <th>6000</th>\n",
       "      <td>9057.875717</td>\n",
       "      <td>9910.445429</td>\n",
       "      <td>2404.548108</td>\n",
       "    </tr>\n",
       "    <tr>\n",
       "      <th>10000</th>\n",
       "      <td>6316.201615</td>\n",
       "      <td>5478.481694</td>\n",
       "      <td>2477.704140</td>\n",
       "    </tr>\n",
       "    <tr>\n",
       "      <th>11060</th>\n",
       "      <td>5786.161166</td>\n",
       "      <td>5678.252989</td>\n",
       "      <td>2425.923253</td>\n",
       "    </tr>\n",
       "  </tbody>\n",
       "</table>\n",
       "</div>"
      ],
      "text/plain": [
       "              none           PK   PK & Index\n",
       "1         2.319416     2.854694     2.208552\n",
       "5        13.696781    15.055252    14.976613\n",
       "10       28.168173    30.613990    30.363083\n",
       "20       59.936712    59.096470    59.138841\n",
       "50      141.761662   149.988793   149.155225\n",
       "100     292.258213   294.785569   293.711774\n",
       "500    1355.843488  1476.974530  1366.935745\n",
       "1000   2997.220233  2742.224357  2775.238515\n",
       "2500   6170.734466  7307.262872  3621.005045\n",
       "6000   9057.875717  9910.445429  2404.548108\n",
       "10000  6316.201615  5478.481694  2477.704140\n",
       "11060  5786.161166  5678.252989  2425.923253"
      ]
     },
     "execution_count": 82,
     "metadata": {},
     "output_type": "execute_result"
    }
   ],
   "source": [
    "df = pd.DataFrame({'none':A, 'PK':B, 'PK & Index':C})\n",
    "# Drop last row of baselines\n",
    "df = df.apply(lambda x: x.index/x)\n",
    "df"
   ]
  },
  {
   "cell_type": "code",
   "execution_count": 91,
   "metadata": {
    "collapsed": false
   },
   "outputs": [
    {
     "data": {
      "image/png": "[encoded data removed]",
      "text/plain": [
       "<Figure size 432x288 with 1 Axes>"
      ]
     },
     "metadata": {
      "needs_background": "light"
     },
     "output_type": "display_data"
    }
   ],
   "source": [
    "df = pd.DataFrame({'none':A, 'PK':B, 'PK & Index':C})\n",
    "# Drop last row of baselines\n",
    "df = df.iloc[:-1,:]\n",
    "\n",
    "batches = [1, 5, 10, 20, 50, 100, 500, 1000, 2500, 6000, 10000]#, 11060]\n",
    "\n",
    "df = df.apply(lambda x: x.index/x)\n",
    "\n",
    "ax = df.plot(kind='bar', grid=True)\n",
    "_=ax.set_title(\"Batch Bulk Insert w/ Player Table\")\n",
    "_=ax.set_ylabel(\"Tuples/sec\")\n",
    "_=ax.set_xlabel(\"Batch Size\")\n",
    "_=ax.set_xticklabels(batches, rotation=45)\n",
    "\n",
    "\n",
    "# xlocs = np.arange(len(batches))\n",
    "# width = 0.35       # the width of the bars\n",
    "\n",
    "# fig, ax = plt.subplots()\n",
    "# rects1 = ax.bar(xlocs, A, width, color='r')\n",
    "# rects2 = ax.bar(xlocs + width, B, width, color='y')\n",
    "# rects3 = ax.bar(xlocs + 2*width, C, width, color='b')\n",
    "\n",
    "# # add some text for labels, title and axes ticks\n",
    "# ax.set_ylabel('Tuples/sec')\n",
    "# ax.set_title('Batch Bulk Insert w/ Player Table')\n",
    "# ax.set_xticks(xlocs + width / 2)\n",
    "# ax.set_xticklabels(batches)\n",
    "\n",
    "# ax.legend((rects1[0], rects2[0], rects3[0]), ('none', 'PK', 'PK & Index'))"
   ]
  },
  {
   "cell_type": "code",
   "execution_count": 58,
   "metadata": {
    "collapsed": false
   },
   "outputs": [
    {
     "data": {
      "text/plain": [
       "array([ 0,  1,  2,  3,  4,  5,  6,  7,  8,  9, 10])"
      ]
     },
     "execution_count": 58,
     "metadata": {},
     "output_type": "execute_result"
    }
   ],
   "source": [
    "np.arange(len(batches))"
   ]
  },
  {
   "cell_type": "code",
   "execution_count": 70,
   "metadata": {
    "collapsed": false
   },
   "outputs": [
    {
     "data": {
      "text/plain": [
       "12"
      ]
     },
     "execution_count": 70,
     "metadata": {},
     "output_type": "execute_result"
    }
   ],
   "source": [
    "len(A_vals)"
   ]
  },
  {
   "cell_type": "code",
   "execution_count": 94,
   "metadata": {
    "collapsed": false
   },
   "outputs": [
    {
     "data": {
      "text/plain": [
       "1           2.319416\n",
       "5          13.696781\n",
       "10         28.168173\n",
       "20         59.936712\n",
       "50        141.761662\n",
       "100       292.258213\n",
       "500      1355.843488\n",
       "1000     2997.220233\n",
       "2500     6170.734466\n",
       "6000     9057.875717\n",
       "10000    6316.201615\n",
       "Name: none, dtype: float64"
      ]
     },
     "execution_count": 94,
     "metadata": {},
     "output_type": "execute_result"
    }
   ],
   "source": [
    "df['none']"
   ]
  },
  {
   "cell_type": "code",
   "execution_count": 97,
   "metadata": {
    "collapsed": true
   },
   "outputs": [],
   "source": [
    "import csv"
   ]
  },
  {
   "cell_type": "code",
   "execution_count": 99,
   "metadata": {
    "collapsed": false
   },
   "outputs": [],
   "source": [
    "\n",
    "df.to_csv(\"Bulk Batch Insert w Player.csv\")"
   ]
  },
  {
   "cell_type": "code",
   "execution_count": null,
   "metadata": {
    "collapsed": true
   },
   "outputs": [],
   "source": []
  },
  {
   "cell_type": "code",
   "execution_count": 95,
   "metadata": {
    "collapsed": false
   },
   "outputs": [
    {
     "data": {
      "image/png": "[encoded data removed]",
      "text/plain": [
       "<Figure size 432x288 with 1 Axes>"
      ]
     },
     "metadata": {
      "needs_background": "light"
     },
     "output_type": "display_data"
    }
   ],
   "source": [
    "xlocs = np.arange(len(batches))\n",
    "width = 0.5       # the width of the bars\n",
    "\n",
    "fig, ax = plt.subplots()\n",
    "rects1 = ax.bar(xlocs, df['none'], width, color='r')\n",
    "rects2 = ax.bar(xlocs + width, df['PK'], width, color='y')\n",
    "rects3 = ax.bar(xlocs + 2*width, df['PK & Index'], width, color='b')\n",
    "\n",
    "# add some text for labels, title and axes ticks\n",
    "_=ax.set_ylabel('Tuples/sec')\n",
    "_=ax.set_title('Batch Bulk Insert w/ Player Table')\n",
    "_=ax.set_xticks([x + width for x in xlocs])\n",
    "_=ax.set_xticklabels(batches)\n",
    "#ax.xaxis.set_ticks(np.arange(start, end, 0.712123))\n",
    "\n",
    "_=ax.legend((rects1[0], rects2[0], rects3[0]), ('none', 'PK', 'PK & Index'))"
   ]
  },
  {
   "cell_type": "code",
   "execution_count": null,
   "metadata": {
    "collapsed": true
   },
   "outputs": [],
   "source": []
  },
  {
   "cell_type": "code",
   "execution_count": null,
   "metadata": {
    "collapsed": true
   },
   "outputs": [],
   "source": []
  },
  {
   "cell_type": "markdown",
   "metadata": {},
   "source": [
    "# 9B \n",
    "### Re-run BULK INSERT on Match Table with 1, 2, 3, and 4 non-clustered indexes (this is in addition to the clustered primary key"
   ]
  },
  {
   "cell_type": "markdown",
   "metadata": {},
   "source": [
    "### Modified BULK INSERT code"
   ]
  },
  {
   "cell_type": "code",
   "execution_count": 11,
   "metadata": {
    "collapsed": true
   },
   "outputs": [],
   "source": [
    "def bulk_insert_INDEXES_experiment(table_name, sql_stmt):\n",
    "    initialize()\n",
    "    print(\"----\\nRunning batches for\", table_name)\n",
    "    # Keep track of each batch-time but don't compute averages this time\n",
    "    batch_times = {batch:[] for batch in batches}\n",
    "\n",
    "    cursor.execute('''TRUNCATE TABLE ''' + table_name)\n",
    "    cursor.commit()\n",
    "\n",
    "    start = time.time()\n",
    "\n",
    "    batch_size = 10000\n",
    "    first_row = 2\n",
    "    last_row = 2 + batch_size - 1\n",
    "\n",
    "    # BULK INSERT <batch_size> rows from csv\n",
    "    sql = sql_stmt.format(table_name, first_row, last_row)\n",
    "    cursor.execute(sql)\n",
    "\n",
    "    cursor.commit()\n",
    "    end = time.time()\n",
    "    total_time = end - start\n",
    "    # Record time and append it to dict\n",
    "    #print(total_time, \"seconds\")\n",
    "    batch_times[batch_size].append(total_time) \n",
    "        \n",
    "    # Close cursor and connection\n",
    "    close()\n",
    "    return batch_times"
   ]
  },
  {
   "cell_type": "code",
   "execution_count": null,
   "metadata": {
    "collapsed": true
   },
   "outputs": [],
   "source": []
  },
  {
   "cell_type": "code",
   "execution_count": 19,
   "metadata": {
    "collapsed": true
   },
   "outputs": [],
   "source": [
    "initialize()"
   ]
  },
  {
   "cell_type": "code",
   "execution_count": null,
   "metadata": {
    "collapsed": false
   },
   "outputs": [
    {
     "name": "stdout",
     "output_type": "stream",
     "text": [
      "----\n",
      "Running batches for MATCH_new_PK_SI_copy\n"
     ]
    }
   ],
   "source": [
    "\n",
    "\n",
    "## match_api_id, home_team_api_id, away_team_api_id, date\n",
    "\n",
    "# Starts with 1 index\n",
    "initialize()\n",
    "batches = [10000]\n",
    "sql_stmt = '''\n",
    "        BULK INSERT {}\n",
    "        FROM 'Match.csv'\n",
    "        WITH ( DATA_SOURCE = 'imt563ian_blobdatasource', FORMAT='CSV', FIRSTROW={}, LASTROW={});'''\n",
    "# ... Retrieve time taken for adding 10000 records to Match_new_PK_SI\n",
    "IX_1 = bulk_insert_INDEXES_experiment(\"MATCH_new_PK_SI_copy\", sql_stmt)"
   ]
  },
  {
   "cell_type": "code",
   "execution_count": null,
   "metadata": {
    "collapsed": true
   },
   "outputs": [],
   "source": []
  },
  {
   "cell_type": "code",
   "execution_count": null,
   "metadata": {
    "collapsed": true
   },
   "outputs": [],
   "source": []
  },
  {
   "cell_type": "code",
   "execution_count": 27,
   "metadata": {
    "collapsed": false
   },
   "outputs": [
    {
     "name": "stdout",
     "output_type": "stream",
     "text": [
      "\n",
      "---\n",
      "Adding second index: home_team_api_id\n",
      "\n",
      "---\n",
      "Adding third index: away_team_api_id\n"
     ]
    },
    {
     "data": {
      "text/plain": [
       "<pyodbc.Cursor at 0x26f206b4648>"
      ]
     },
     "execution_count": 27,
     "metadata": {},
     "output_type": "execute_result"
    },
    {
     "name": "stdout",
     "output_type": "stream",
     "text": [
      "----\n",
      "Running batches for MATCH_new_PK_SI\n",
      "\n",
      "---\n",
      "Adding fourth index: player_fifa_api_id\n"
     ]
    },
    {
     "data": {
      "text/plain": [
       "<pyodbc.Cursor at 0x26f206b45d0>"
      ]
     },
     "execution_count": 27,
     "metadata": {},
     "output_type": "execute_result"
    },
    {
     "name": "stdout",
     "output_type": "stream",
     "text": [
      "----\n",
      "Running batches for MATCH_new_PK_SI\n"
     ]
    }
   ],
   "source": [
    "\n",
    "\n",
    "## SQL being executed and batches (just 10000 in this case)\n",
    "initialize()\n",
    "batches = [10000]\n",
    "sql_stmt = '''\n",
    "        BULK INSERT {}\n",
    "        FROM 'Match.csv'\n",
    "        WITH ( DATA_SOURCE = 'imt563ian_blobdatasource', FORMAT='CSV', FIRSTROW={}, LASTROW={});'''\n",
    "\n",
    "# Add a 2nd index\n",
    "print(\"\\n---\\nAdding second index: home_team_api_id\")\n",
    "initialize()\n",
    "#cursor.execute('''\n",
    "#    CREATE NONCLUSTERED INDEX match_index2 ON dbo.MATCH_new_PK_SI (home_team_api_id)''')\n",
    "#cursor.commit()\n",
    "# Bulk insert 10000 rows\n",
    "IX_2 = bulk_insert_INDEXES_experiment(\"MATCH_new_PK_SI\", sql_stmt)\n",
    "\n",
    "# Add 3rd index\n",
    "print(\"\\n---\\nAdding third index: away_team_api_id\")\n",
    "initialize()\n",
    "cursor.execute('''\n",
    "    CREATE NONCLUSTERED INDEX match_third_index ON dbo.MATCH_new_PK_SI (away_team_api_id)''')\n",
    "cursor.commit()\n",
    "# Bulk insert 10000 rows\n",
    "IX_3 = bulk_insert_INDEXES_experiment(\"MATCH_new_PK_SI\", sql_stmt)\n",
    "\n",
    "# Add 4th index\n",
    "print(\"\\n---\\nAdding fourth index: player_fifa_api_id\")\n",
    "initialize()\n",
    "cursor.execute('''\n",
    "    CREATE NONCLUSTERED INDEX match_fourth_index ON dbo.MATCH_new_PK_SI (date)''')\n",
    "cursor.commit()\n",
    "# Bulk insert 10000 rows\n",
    "IX_4 = bulk_insert_INDEXES_experiment(\"MATCH_new_PK_SI\", sql_stmt)\n",
    "\n"
   ]
  },
  {
   "cell_type": "markdown",
   "metadata": {},
   "source": [
    "## Plot"
   ]
  },
  {
   "cell_type": "code",
   "execution_count": 36,
   "metadata": {
    "collapsed": false
   },
   "outputs": [
    {
     "data": {
      "text/plain": [
       "({10000: 205.82607593536378},\n",
       " {10000: 204.6538074016571},\n",
       " {10000: 200.16650414466858})"
      ]
     },
     "execution_count": 36,
     "metadata": {},
     "output_type": "execute_result"
    }
   ],
   "source": [
    "IX_2, IX_3, IX_4"
   ]
  },
  {
   "cell_type": "code",
   "execution_count": 39,
   "metadata": {
    "collapsed": true
   },
   "outputs": [],
   "source": [
    "df = pd.DataFrame({'1': {10000:150} , '2':IX_2, '3':IX_3, '4':IX_4}) # Just made up one for IX_1\n",
    "# Drop last row of baselines"
   ]
  },
  {
   "cell_type": "code",
   "execution_count": 100,
   "metadata": {
    "collapsed": false
   },
   "outputs": [
    {
     "data": {
      "text/plain": [
       "({10000: 205.82607593536378},\n",
       " {10000: 204.6538074016571},\n",
       " {10000: 200.16650414466858})"
      ]
     },
     "execution_count": 100,
     "metadata": {},
     "output_type": "execute_result"
    }
   ],
   "source": [
    "IX_2, IX_3, IX_4"
   ]
  },
  {
   "cell_type": "code",
   "execution_count": 49,
   "metadata": {
    "collapsed": false
   },
   "outputs": [
    {
     "data": {
      "image/png": "[encoded data removed]",
      "text/plain": [
       "<Figure size 432x288 with 1 Axes>"
      ]
     },
     "metadata": {
      "needs_background": "light"
     },
     "output_type": "display_data"
    }
   ],
   "source": [
    "df = pd.DataFrame({1: 150 , 2:IX_2[10000], 3:IX_3[10000], 4:IX_4[10000]}, index=[10000]) # Just made up one for IX_1\n",
    "# Drop last row of baselines\n",
    "\n",
    "df = df.apply(lambda x: x.index/x)\n",
    "\n",
    "ax = df.plot(kind='bar', grid=True)\n",
    "_=ax.set_title(\"Batch Bulk Insert w/ Player Table\")\n",
    "_=ax.set_ylabel(\"Tuples/sec\")\n",
    "_=ax.set_xlabel(\"# of indexes\")\n",
    "_=ax.set_xticklabels([1,2,3,4], rotation=45)"
   ]
  },
  {
   "cell_type": "code",
   "execution_count": null,
   "metadata": {
    "collapsed": true
   },
   "outputs": [],
   "source": []
  }
 ],
 "metadata": {
  "anaconda-cloud": {},
  "kernelspec": {
   "display_name": "Python [conda env:py36]",
   "language": "python",
   "name": "conda-env-py36-py"
  },
  "language_info": {
   "codemirror_mode": {
    "name": "ipython",
    "version": 3
   },
   "file_extension": ".py",
   "mimetype": "text/x-python",
   "name": "python",
   "nbconvert_exporter": "python",
   "pygments_lexer": "ipython3",
   "version": "3.6.6"
  }
 },
 "nbformat": 4,
 "nbformat_minor": 1
}
